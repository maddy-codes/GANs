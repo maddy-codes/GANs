{
 "cells": [
  {
   "cell_type": "markdown",
   "metadata": {},
   "source": [
    "<H1 style=\"display:center\">Generative Adversarial Networks</H1>"
   ]
  },
  {
   "cell_type": "code",
   "execution_count": 100,
   "metadata": {},
   "outputs": [],
   "source": [
    "# Operating System module for interacting with the operating system\n",
    "import os\n",
    "\n",
    "# Module for generating random numbers\n",
    "import random\n",
    "\n",
    "# Module for numerical operations\n",
    "import numpy as np\n",
    "\n",
    "# OpenCV library for image processing\n",
    "import cv2\n",
    "\n",
    "# Python Imaging Library for image processing\n",
    "from PIL import Image, ImageDraw, ImageFont\n",
    "\n",
    "# PyTorch library for deep learning\n",
    "import torch\n",
    "\n",
    "# Dataset class for creating custom datasets in PyTorch\n",
    "from torch.utils.data import Dataset\n",
    "\n",
    "# Module for image transformations\n",
    "import torchvision.transforms as transforms\n",
    "\n",
    "# Neural network module in PyTorch\n",
    "import torch.nn as nn\n",
    "\n",
    "# Optimization algorithms in PyTorch\n",
    "import torch.optim as optim\n",
    "\n",
    "# Function for padding sequences in PyTorch\n",
    "from torch.nn.utils.rnn import pad_sequence\n",
    "\n",
    "# Function for saving images in PyTorch\n",
    "from torchvision.utils import save_image\n",
    "\n",
    "# Module for plotting graphs and images\n",
    "import matplotlib.pyplot as plt\n",
    "\n",
    "# Module for displaying rich content in IPython environments\n",
    "from IPython.display import clear_output, display, HTML\n",
    "\n",
    "# Module for encoding and decoding binary data to text\n",
    "import base64"
   ]
  },
  {
   "cell_type": "markdown",
   "metadata": {},
   "source": [
    "## Making Training Data"
   ]
  },
  {
   "cell_type": "code",
   "execution_count": 101,
   "metadata": {},
   "outputs": [],
   "source": [
    "os.makedirs(\"training_data\", exist_ok=True) # Initialising the training data directory\n",
    "num_vids = 10000 #Number of videos to generate\n",
    "frames_per_video = 10 # fps\n",
    "img_size = (64,64) #size of image\n",
    "shape_size = 10 #Defining the size of shape (Circle)"
   ]
  },
  {
   "cell_type": "code",
   "execution_count": 102,
   "metadata": {},
   "outputs": [],
   "source": [
    "#Prompts vs Mvt...\n",
    "prompts_and_movements = [\n",
    "    (\"circle moving down\", \"circle\", \"down\"),  # Move circle downward\n",
    "    (\"circle moving left\", \"circle\", \"left\"),  # Move circle leftward\n",
    "    (\"circle moving right\", \"circle\", \"right\"),  # Move circle rightward\n",
    "    (\"circle moving diagonally up-right\", \"circle\", \"diagonal_up_right\"),  # Move circle diagonally up-right\n",
    "    (\"circle moving diagonally down-left\", \"circle\", \"diagonal_down_left\"),  # Move circle diagonally down-left\n",
    "    (\"circle moving diagonally up-left\", \"circle\", \"diagonal_up_left\"),  # Move circle diagonally up-left\n",
    "    (\"circle moving diagonally down-right\", \"circle\", \"diagonal_down_right\"),  # Move circle diagonally down-right\n",
    "    (\"circle rotating clockwise\", \"circle\", \"rotate_clockwise\"),  # Rotate circle clockwise\n",
    "    (\"circle rotating counter-clockwise\", \"circle\", \"rotate_counter_clockwise\"),  # Rotate circle counter-clockwise\n",
    "    (\"circle shrinking\", \"circle\", \"shrink\"),  # Shrink circle\n",
    "    (\"circle expanding\", \"circle\", \"expand\"),  # Expand circle\n",
    "    (\"circle bouncing vertically\", \"circle\", \"bounce_vertical\"),  # Bounce circle vertically\n",
    "    (\"circle bouncing horizontally\", \"circle\", \"bounce_horizontal\"),  # Bounce circle horizontally\n",
    "    (\"circle zigzagging vertically\", \"circle\", \"zigzag_vertical\"),  # Zigzag circle vertically\n",
    "    (\"circle zigzagging horizontally\", \"circle\", \"zigzag_horizontal\"),  # Zigzag circle horizontally\n",
    "    (\"circle moving up-left\", \"circle\", \"up_left\"),  # Move circle up-left\n",
    "    (\"circle moving down-right\", \"circle\", \"down_right\"),  # Move circle down-right\n",
    "    (\"circle moving down-left\", \"circle\", \"down_left\"),  # Move circle down-left\n",
    "]"
   ]
  },
  {
   "cell_type": "code",
   "execution_count": 103,
   "metadata": {},
   "outputs": [],
   "source": [
    "#Defining the circle with parameters\n",
    "def create_moving_shape(size,frame_num,shape,direction):\n",
    "    img = Image.new('RGB',size=size,color=(255,255,255))\n",
    "    draw = ImageDraw.Draw(img)\n",
    "    centerX, centerY = size[0] // 2, size[1] // 2\n",
    "    position = (centerX, centerY)\n",
    "    direction_map = {\n",
    "        'down' : (0,frame_num*5 % size[1]),\n",
    "        'left' : (-frame_num*5 % size[0],0),\n",
    "        'right' : (frame_num*5 % size[0],0),\n",
    "        \"diagonal_up_right\": (frame_num * 5 % size[0], -frame_num * 5 % size[1]),  \n",
    "        \"diagonal_down_left\": (-frame_num * 5 % size[0], frame_num * 5 % size[1]),  \n",
    "        \"diagonal_up_left\": (-frame_num * 5 % size[0], -frame_num * 5 % size[1]),  \n",
    "        \"diagonal_down_right\": (frame_num * 5 % size[0], frame_num * 5 % size[1]),  \n",
    "        \"rotate_clockwise\": img.rotate(frame_num * 10 % 360, center=(centerX, centerY), fillcolor=(255, 255, 255)),  \n",
    "        \"rotate_counter_clockwise\": img.rotate(-frame_num * 10 % 360, center=(centerX, centerY), fillcolor=(255, 255, 255)),  \n",
    "        \"bounce_vertical\": (0, centerY - abs(frame_num * 5 % size[1] - centerY)),  \n",
    "        \"bounce_horizontal\": (centerX - abs(frame_num * 5 % size[0] - centerX), 0),  \n",
    "        \"zigzag_vertical\": (0, centerY - frame_num * 5 % size[1]) if frame_num % 2 == 0 else (0, centerY + frame_num * 5 % size[1]),  \n",
    "        \"zigzag_horizontal\": (centerX - frame_num * 5 % size[0], centerY) if frame_num % 2 == 0 else (centerX + frame_num * 5 % size[0], centerY),  \n",
    "        \"up_right\": (frame_num * 5 % size[0], -frame_num * 5 % size[1]),  \n",
    "        \"up_left\": (-frame_num * 5 % size[0], -frame_num * 5 % size[1]),  \n",
    "        \"down_right\": (frame_num * 5 % size[0], frame_num * 5 % size[1]),  \n",
    "        \"down_left\": (-frame_num * 5 % size[0], frame_num * 5 % size[1])  \n",
    "    }\n",
    "    #Check if the direction is in the map\n",
    "    if direction in direction_map:\n",
    "        if isinstance(direction_map[direction], tuple):\n",
    "            position = tuple(np.add(position, direction_map[direction]))\n",
    "        else:\n",
    "            img = direction_map[direction]\n",
    "    return np.array(img)"
   ]
  },
  {
   "cell_type": "code",
   "execution_count": 104,
   "metadata": {},
   "outputs": [
    {
     "ename": "KeyboardInterrupt",
     "evalue": "",
     "output_type": "error",
     "traceback": [
      "\u001b[1;31m---------------------------------------------------------------------------\u001b[0m",
      "\u001b[1;31mKeyboardInterrupt\u001b[0m                         Traceback (most recent call last)",
      "\u001b[1;32m~\\AppData\\Local\\Temp\\ipykernel_28684\\2414485733.py\u001b[0m in \u001b[0;36m<module>\u001b[1;34m\u001b[0m\n\u001b[0;32m      9\u001b[0m     \u001b[1;32mfor\u001b[0m \u001b[0mframe_num\u001b[0m \u001b[1;32min\u001b[0m \u001b[0mrange\u001b[0m\u001b[1;33m(\u001b[0m\u001b[0mframes_per_video\u001b[0m\u001b[1;33m)\u001b[0m\u001b[1;33m:\u001b[0m\u001b[1;33m\u001b[0m\u001b[1;33m\u001b[0m\u001b[0m\n\u001b[0;32m     10\u001b[0m         \u001b[0mimg\u001b[0m \u001b[1;33m=\u001b[0m \u001b[0mcreate_moving_shape\u001b[0m\u001b[1;33m(\u001b[0m\u001b[0msize\u001b[0m\u001b[1;33m=\u001b[0m\u001b[0mimg_size\u001b[0m\u001b[1;33m,\u001b[0m \u001b[0mframe_num\u001b[0m\u001b[1;33m=\u001b[0m\u001b[0mframe_num\u001b[0m\u001b[1;33m,\u001b[0m \u001b[0mshape\u001b[0m\u001b[1;33m=\u001b[0m\u001b[0mshape\u001b[0m\u001b[1;33m,\u001b[0m\u001b[0mdirection\u001b[0m\u001b[1;33m=\u001b[0m\u001b[0mdirection\u001b[0m\u001b[1;33m)\u001b[0m\u001b[1;33m\u001b[0m\u001b[1;33m\u001b[0m\u001b[0m\n\u001b[1;32m---> 11\u001b[1;33m         \u001b[0mcv2\u001b[0m\u001b[1;33m.\u001b[0m\u001b[0mimwrite\u001b[0m\u001b[1;33m(\u001b[0m\u001b[1;34mf'{video_dir}/frame_{frame_num}.png'\u001b[0m\u001b[1;33m,\u001b[0m \u001b[0mimg\u001b[0m\u001b[1;33m)\u001b[0m\u001b[1;33m\u001b[0m\u001b[1;33m\u001b[0m\u001b[0m\n\u001b[0m",
      "\u001b[1;31mKeyboardInterrupt\u001b[0m: "
     ]
    }
   ],
   "source": [
    "#Looping over the number of videos to generate the videos\n",
    "for i in range(num_vids):\n",
    "    prompt, shape, direction = random.choice(prompts_and_movements)\n",
    "    video_dir = f'training_dataset/video{i}'\n",
    "    os.makedirs(video_dir, exist_ok=True)\n",
    "    with open(f'{video_dir}/prompt.txt','w') as f:\n",
    "        f.write(prompt)\n",
    "\n",
    "    for frame_num in range(frames_per_video):\n",
    "        img = create_moving_shape(size=img_size, frame_num=frame_num, shape=shape,direction=direction)\n",
    "        cv2.imwrite(f'{video_dir}/frame_{frame_num}.png', img)"
   ]
  },
  {
   "cell_type": "code",
   "execution_count": 105,
   "metadata": {},
   "outputs": [],
   "source": [
    "class TextToVideoDataset:\n",
    "    def __init__(self, root_dir, transform=None):\n",
    "        self.root_dir = root_dir\n",
    "        self.transform = transform\n",
    "        self.video_dirs = [os.path.join(root_dir,d) for d in os.listdir(root_dir) if os.path.isdir(os.path.join(root_dir, d))]\n",
    "        self.frame_paths = []\n",
    "        self.prompts = []\n",
    "\n",
    "        for video_dir in self.video_dirs:\n",
    "            frames = [os.path.join(video_dir,f) for f in os.listdir(video_dir) if f.endswith('.png')]\n",
    "            self.frame_paths.extend(frames)\n",
    "            with open(os.path.join(video_dir,'prompt.txt'),'r') as f:\n",
    "                prompt = f.read().strip()\n",
    "\n",
    "            self.prompts.extend([prompt]*len(frames))\n",
    "\n",
    "    def __len__(self):\n",
    "        return len(self.frame_paths)\n",
    "    \n",
    "    def __getitem__(self,idx):\n",
    "        frame_path = self.frame_paths[idx]\n",
    "        image = Image.open(frame_path)\n",
    "        prompt = self.prompts[idx]\n",
    "\n",
    "        if self.transform:\n",
    "            image = self.transform(image)\n",
    "            return image, prompt\n",
    "                \n",
    "                \n",
    "        print(f\"Image shape: {image.size()}, Prompt: {prompt}\")\n"
   ]
  },
  {
   "cell_type": "code",
   "execution_count": 106,
   "metadata": {},
   "outputs": [],
   "source": [
    "transform = transforms.Compose([\n",
    "    transforms.ToTensor(),\n",
    "    transforms.Normalize((0.5,0.5,0.5),(0.5,0.5,0.5))\n",
    "    ])\n",
    "dataset = TextToVideoDataset(root_dir='training_dataset',transform=transform)\n",
    "dataloader = torch.utils.data.DataLoader(dataset, batch_size=16, shuffle=True)"
   ]
  },
  {
   "cell_type": "code",
   "execution_count": 107,
   "metadata": {},
   "outputs": [],
   "source": [
    "class TextEmbedding(nn.Module):\n",
    "    def __init__(self,vocab_size, embed_size):\n",
    "        super(TextEmbedding,self).__init__()\n",
    "        self.embedding = nn.Embedding(vocab_size,embed_size)\n",
    "\n",
    "    def forward(self,x):\n",
    "        return self.embedding(x)"
   ]
  },
  {
   "cell_type": "code",
   "execution_count": 108,
   "metadata": {},
   "outputs": [],
   "source": [
    "class TextEmbedding(nn.Module):\n",
    "    def __init__(self, vocab_size, embed_size):\n",
    "        super(TextEmbedding,self).__init__()\n",
    "        self.embedding = nn.Embedding(vocab_size, embed_size)\n",
    "\n",
    "    def forward(self,x):\n",
    "        return self.embedding(x)"
   ]
  },
  {
   "cell_type": "code",
   "execution_count": 109,
   "metadata": {},
   "outputs": [],
   "source": [
    "class Generator(nn.Module):\n",
    "    def __init__(self, text_embed_size):\n",
    "        super(Generator,self).__init__()\n",
    "        self.fc1 = nn.Linear(100 + text_embed_size, 256 * 8 * 8) # This is the flatten layer\n",
    "        self.deconv1 = nn.ConvTranspose2d(256, 128, 4, 2, 1) # Conv Layer 1\n",
    "        self.deconv2 = nn.ConvTranspose2d(128, 64, 4, 2, 1) # Conv Layer 2\n",
    "        self.deconv3 = nn.ConvTranspose2d(64, 3, 4, 2, 1) # Conv Layer 3\n",
    "        self.relu = nn.ReLU(True)\n",
    "        self.tanh = nn.Tanh()\n",
    "\n",
    "    def forward(self, noise, text_embed):\n",
    "        text_embed = text_embed.repeat(noise.size(0), 1)\n",
    "        x = torch.cat((noise,text_embed),dim=1)\n",
    "        x = self.fc1(x).view(-1, 256, 8, 8)\n",
    "        x = self.relu(self.deconv1(x))\n",
    "        x = self.relu(self.deconv2(x))\n",
    "        x = self.tanh(self.deconv3(x))\n",
    "\n",
    "        return x"
   ]
  },
  {
   "cell_type": "code",
   "execution_count": 110,
   "metadata": {},
   "outputs": [],
   "source": [
    "class Discriminator(nn.Module):\n",
    "    def __init__(self):\n",
    "        super(Discriminator, self).__init__()\n",
    "\n",
    "        self.conv1 = nn.Conv2d(3, 64, 4, 2, 1)\n",
    "        self.conv2 = nn.Conv2d(64, 128, 4, 2, 1)\n",
    "        self.conv3 = nn.Conv2d(128, 256, 4, 2, 1)\n",
    "        self.fc1 = nn.Linear(256 * 8 * 8, 1)\n",
    "        self.leaky_relu = nn.LeakyReLU(0.2, inplace=True)\n",
    "        self.sigmoid = nn.Sigmoid()\n",
    "\n",
    "    def forward(self, input):\n",
    "        x = self.leaky_relu(self.conv1(input))\n",
    "        x = self.leaky_relu(self.conv2(x))\n",
    "        x = self.leaky_relu(self.conv3(x))\n",
    "\n",
    "        x = x.view(-1, 256 * 8 * 8)\n",
    "\n",
    "        x = self.sigmoid(self.fc1(x))\n",
    "\n",
    "        return x"
   ]
  },
  {
   "cell_type": "code",
   "execution_count": 113,
   "metadata": {},
   "outputs": [
    {
     "name": "stdout",
     "output_type": "stream",
     "text": [
      "cuda\n"
     ]
    }
   ],
   "source": [
    "#Checking for GPU\n",
    "device = torch.device(\"cuda\" if torch.cuda.is_available() else \"cpu\")\n",
    "print(device)\n",
    "#Creating a simple vocabulary for text prompts\n",
    "all_prompts = [prompt for prompt, _, _ in prompts_and_movements] #Extracts All\n",
    "vocab = {word : idx for idx, word in enumerate(set(\" \".join(all_prompts).split()))}\n",
    "vocab_size = len(vocab)\n",
    "embed_size = 10\n",
    "\n",
    "def encode_text(prompt):\n",
    "    return torch.tensor([vocab[word] for word in prompt.split()])\n",
    "\n",
    "text_embedding = TextEmbedding(vocab_size=vocab_size, embed_size=embed_size).to(device=device)\n",
    "netG = Generator(embed_size).to(device=device)\n",
    "netD = Discriminator().to(device=device)\n",
    "criterion = nn.BCELoss().to(device=device)\n",
    "optimiserD = optim.Adam(netD.parameters(),lr=0.0002, betas=(0.5, 0.999))\n",
    "optimiserG = optim.Adam(netG.parameters(),lr=0.0002, betas=(0.5, 0.999))"
   ]
  },
  {
   "cell_type": "code",
   "execution_count": 115,
   "metadata": {},
   "outputs": [
    {
     "name": "stdout",
     "output_type": "stream",
     "text": [
      "Epoch [1/13] Loss D: 1.3862930536270142, Loss G: 0.6933430433273315\n",
      "Epoch [2/13] Loss D: 100.0, Loss G: 100.0\n",
      "Epoch [3/13] Loss D: 100.0, Loss G: 100.0\n",
      "Epoch [4/13] Loss D: 100.0, Loss G: 100.0\n",
      "Epoch [5/13] Loss D: 100.0, Loss G: 100.0\n",
      "Epoch [6/13] Loss D: 100.0, Loss G: 100.0\n"
     ]
    }
   ],
   "source": [
    "num_epochs = 13\n",
    "for epoch in range(num_epochs):\n",
    "    for i, (data, prompts) in enumerate(dataloader):\n",
    "        real_data = data.to(device)\n",
    "        prompts = [prompts for prompt in prompts]\n",
    "\n",
    "        netD.zero_grad()\n",
    "        batch_size = real_data.size(0)\n",
    "        labels = torch.ones(batch_size, 1 ).to(device=device)\n",
    "        output = netD(real_data)\n",
    "        lossD_real = criterion(output, labels)\n",
    "        lossD_real.backward()\n",
    "        noise = torch.randn(batch_size,100).to(device=device)\n",
    "        text_embeds = torch.stack([text_embedding(encode_text(prompt=prompt).to(device=device)).mean(dim=0)])\n",
    "        fake_data = netG(noise, text_embeds)\n",
    "        labels = torch.zeros(batch_size,1).to(device=device)\n",
    "        output = netD(fake_data.detach())\n",
    "        lossD_fake = criterion(output, labels)\n",
    "        lossD_fake.backward()\n",
    "        optimiserD.step()\n",
    "\n",
    "\n",
    "        netG.zero_grad()\n",
    "        labels = torch.ones(batch_size,1).to(device)\n",
    "        output = netD(fake_data)\n",
    "        lossG = criterion(output,labels).to(device)\n",
    "        lossG.backward()\n",
    "        optimiserG.step()\n",
    "\n",
    "    print(f\"Epoch [{epoch + 1}/{num_epochs}] Loss D: {lossD_real + lossD_fake}, Loss G: {lossG}\")\n",
    "    "
   ]
  },
  {
   "cell_type": "code",
   "execution_count": null,
   "metadata": {},
   "outputs": [],
   "source": [
    "\n",
    "\n"
   ]
  },
  {
   "cell_type": "code",
   "execution_count": null,
   "metadata": {},
   "outputs": [],
   "source": []
  },
  {
   "cell_type": "code",
   "execution_count": null,
   "metadata": {},
   "outputs": [],
   "source": []
  }
 ],
 "metadata": {
  "kernelspec": {
   "display_name": "Jatin_GPU_ENV",
   "language": "python",
   "name": "python3"
  },
  "language_info": {
   "codemirror_mode": {
    "name": "ipython",
    "version": 3
   },
   "file_extension": ".py",
   "mimetype": "text/x-python",
   "name": "python",
   "nbconvert_exporter": "python",
   "pygments_lexer": "ipython3",
   "version": "3.9.16"
  }
 },
 "nbformat": 4,
 "nbformat_minor": 2
}
